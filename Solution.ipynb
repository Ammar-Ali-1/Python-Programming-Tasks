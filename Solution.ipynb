{
 "cells": [
  {
   "cell_type": "code",
   "execution_count": null,
   "metadata": {},
   "outputs": [],
   "source": [
    "L1 = ['HTTP','HTTPS','FTP','DNS']\n",
    "L2 = [80,443,21,53]\n",
    "d = {}\n",
    "for i in range(len(L1)):\n",
    "    d.update({L1[i]:L2[i]})\n",
    "print(d)"
   ]
  },
  {
   "cell_type": "code",
   "execution_count": null,
   "metadata": {},
   "outputs": [],
   "source": [
    "num = eval(input(\"Enter an integer: \"))\n",
    "factorial = 1\n",
    "if num == 0:\n",
    "    print('The factorial of ',num,' is: 0')\n",
    "elif num == 1:\n",
    "    print('The factorial of ',num,' is: 1')\n",
    "else :\n",
    "    for i in range(1,(num+1)):\n",
    "        factorial *= i\n",
    "    print('The factorial of ',num,' is: ',factorial)"
   ]
  },
  {
   "cell_type": "code",
   "execution_count": null,
   "metadata": {},
   "outputs": [],
   "source": [
    "L = ['Network', 'Bio' ,'Programming' ,'Physics' ,'Music']\n",
    "list2 = []\n",
    "for i in range(len(L)):\n",
    "   if L[i].startswith('B'):\n",
    "      list2.append(L[i])\n",
    "      print(\"The items from list L that start with the letter 'B' are:\",list2)"
   ]
  },
  {
   "cell_type": "code",
   "execution_count": null,
   "metadata": {},
   "outputs": [],
   "source": [
    "d = {x:x+1 for x in range(11)}\n",
    "print(d)"
   ]
  },
  {
   "cell_type": "code",
   "execution_count": null,
   "metadata": {},
   "outputs": [],
   "source": [
    "#defined function that calculates the decimal value of the enetered binary number.\n",
    "def calculateDecimal(v1):\n",
    "    sum = 0\n",
    "    for i in range(len(v1)):\n",
    "        sum += int(v1[i]) * (2**(len(v1)-1-i))\n",
    "    print('The deciaml value of (',v1,') is',sum)\n",
    "#my main code that allows the user to input and ensures the input is legit before passing it to the defined function.\n",
    "binaryInput = input(\"Enter a binary number: \")\n",
    "check = True\n",
    "for i in range(len(binaryInput)):\n",
    "    if binaryInput[i] == '1' or binaryInput[i] == '0':\n",
    "        continue\n",
    "    else :\n",
    "        check = False\n",
    "if check == True :\n",
    "    calculateDecimal(binaryInput)\n",
    "else :\n",
    "    print('The number you entered (',binaryInput,') is not acceptable, Please rerun with a binary number consisted only of ones and zeroes.')"
   ]
  },
  {
   "cell_type": "code",
   "execution_count": null,
   "metadata": {},
   "outputs": [],
   "source": [
    "# The following function appends the questions from the file to a list:\n",
    "def getQuestionsFromFile():\n",
    "    infile = open('D:\\\\quiz.txt','r')\n",
    "    line = infile.readline()\n",
    "    theQuestions = []\n",
    "    while line != \"\":\n",
    "        x=line[:16]\n",
    "        theQuestions.append(x)\n",
    "        line = infile.readline()\n",
    "        line = infile.readline()\n",
    "    return(theQuestions)\n",
    "\n",
    "# The following function lets the user to type in his answers:\n",
    "def getUserAnswers(v1):\n",
    "    userInput = []\n",
    "    for i in range(len(v1)):\n",
    "        l=A[i]\n",
    "        s = input(l)\n",
    "        userInput.append(s)\n",
    "    return(userInput)\n",
    "\n",
    "# The following function gets the correct answers written in the file and compares them to the user's answers:\n",
    "def resultCalculation(list1):\n",
    "    infile = open('D:\\\\quiz.txt','r')\n",
    "    line = infile.readline()\n",
    "    line = infile.readline()\n",
    "    correctAnswers = []\n",
    "    while line != \"\":\n",
    "        x = line[:2]\n",
    "        correctAnswers.append(x)\n",
    "        line = infile.readline()\n",
    "        line = infile.readline()\n",
    "    score = 0\n",
    "    for i in range(20):\n",
    "        if int(list1[i]) == int(correctAnswers[i]):\n",
    "            score += 1\n",
    "    return(score)\n",
    "\n",
    "A = getQuestionsFromFile()\n",
    "B = getUserAnswers(A)\n",
    "C = resultCalculation(B)\n",
    "print('Your quiz score is: ',C)"
   ]
  }
 ],
 "metadata": {
  "kernelspec": {
   "display_name": "Python 3",
   "language": "python",
   "name": "python3"
  },
  "language_info": {
   "name": "python",
   "version": "3.9.0"
  }
 },
 "nbformat": 4,
 "nbformat_minor": 2
}
