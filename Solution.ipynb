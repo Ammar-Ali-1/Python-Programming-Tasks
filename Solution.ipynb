{
 "cells": [
  {
   "cell_type": "code",
   "execution_count": 4,
   "metadata": {},
   "outputs": [
    {
     "name": "stdout",
     "output_type": "stream",
     "text": [
      "{'HTTP': 80, 'HTTPS': 443, 'FTP': 21, 'DNS': 53}\n"
     ]
    }
   ],
   "source": [
    "L1 = ['HTTP','HTTPS','FTP','DNS']\n",
    "L2 = [80,443,21,53]\n",
    "d = {}\n",
    "for i in range(len(L1)):\n",
    "    d.update({L1[i]:L2[i]})\n",
    "print(d)"
   ]
  },
  {
   "cell_type": "code",
   "execution_count": 11,
   "metadata": {},
   "outputs": [
    {
     "name": "stdout",
     "output_type": "stream",
     "text": [
      "The factorial of  10  is:  3628800\n"
     ]
    }
   ],
   "source": [
    "num = eval(input(\"Enter an integer: \"))\n",
    "factorial = 1\n",
    "if num == 0:\n",
    "    print('The factorial of ',num,' is: 0')\n",
    "elif num == 1:\n",
    "    print('The factorial of ',num,' is: 1')\n",
    "else :\n",
    "    for i in range(1,(num+1)):\n",
    "        factorial *= i\n",
    "    print('The factorial of ',num,' is: ',factorial)"
   ]
  },
  {
   "cell_type": "code",
   "execution_count": 12,
   "metadata": {},
   "outputs": [
    {
     "name": "stdout",
     "output_type": "stream",
     "text": [
      "The items from list L that start with the letter 'B' are: ['Bio']\n"
     ]
    }
   ],
   "source": [
    "L = ['Network', 'Bio' ,'Programming' ,'Physics' ,'Music']\n",
    "list2 = []\n",
    "for i in range(len(L)):\n",
    "   if L[i].startswith('B'):\n",
    "      list2.append(L[i])\n",
    "      print(\"The items from list L that start with the letter 'B' are:\",list2)"
   ]
  },
  {
   "cell_type": "code",
   "execution_count": 13,
   "metadata": {},
   "outputs": [
    {
     "name": "stdout",
     "output_type": "stream",
     "text": [
      "{0: 1, 1: 2, 2: 3, 3: 4, 4: 5, 5: 6, 6: 7, 7: 8, 8: 9, 9: 10, 10: 11}\n"
     ]
    }
   ],
   "source": [
    "d = {x:x+1 for x in range(11)}\n",
    "print(d)"
   ]
  },
  {
   "cell_type": "code",
   "execution_count": 1,
   "metadata": {},
   "outputs": [
    {
     "name": "stdout",
     "output_type": "stream",
     "text": [
      "The deciaml value of ( 111111 ) is 63\n"
     ]
    }
   ],
   "source": [
    "#defined function that calculates the decimal value of the enetered binary number.\n",
    "def calculateDecimal(v1):\n",
    "    sum = 0\n",
    "    for i in range(len(v1)):\n",
    "        sum += int(v1[i]) * (2**(len(v1)-1-i))\n",
    "    print('The deciaml value of (',v1,') is',sum)\n",
    "#my main code that allows the user to input and ensures the input is legit before passing it to the defined function.\n",
    "binaryInput = input(\"Enter a binary number: \")\n",
    "check = True\n",
    "for i in range(len(binaryInput)):\n",
    "    if binaryInput[i] == '1' or binaryInput[i] == '0':\n",
    "        continue\n",
    "    else :\n",
    "        check = False\n",
    "if check == True :\n",
    "    calculateDecimal(binaryInput)\n",
    "else :\n",
    "    print('The number you entered (',binaryInput,') is not acceptable, Please rerun with a binary number consisted only of ones and zeroes.')"
   ]
  },
  {
   "cell_type": "code",
   "execution_count": 12,
   "metadata": {},
   "outputs": [
    {
     "name": "stdout",
     "output_type": "stream",
     "text": [
      "Your quiz score is:  20 / 20\n"
     ]
    }
   ],
   "source": [
    "# The following function appends the questions from the file to a list:\n",
    "def getQuestionsFromFile():\n",
    "    infile = open('D:\\\\quiz.txt','r')\n",
    "    line = infile.readline()\n",
    "    theQuestions = []\n",
    "    while line != \"\":\n",
    "        x=line[:22]\n",
    "        theQuestions.append(x)\n",
    "        line = infile.readline()\n",
    "        line = infile.readline()\n",
    "    infile.close()\n",
    "    return(theQuestions)\n",
    "\n",
    "\n",
    "# The following function lets the user to type in his answers:\n",
    "def getUserAnswers(v1):\n",
    "    userInput = []\n",
    "    for i in range(len(v1)):\n",
    "        l=A[i]\n",
    "        s = input(l)\n",
    "        userInput.append(s)\n",
    "    return(userInput)\n",
    "\n",
    "# The following function gets the correct answers written in the file and compares them to the user's answers:\n",
    "def resultCalculation(list1):\n",
    "    infile = open('D:\\\\quiz.txt','r')\n",
    "    line = infile.readline()\n",
    "    line = infile.readline()\n",
    "    correctAnswers = []\n",
    "    while line != \"\":\n",
    "        x = line[:1]\n",
    "        correctAnswers.append(x)\n",
    "        line = infile.readline()\n",
    "        line = infile.readline()\n",
    "    score = 0\n",
    "    for i in range(20):\n",
    "        if list1[i] == correctAnswers[i]:\n",
    "            score += 1\n",
    "    infile.close()\n",
    "    return(score)\n",
    "\n",
    "def storeUserMarks(FullName,Grade) :\n",
    "    outfile = open('D:\\\\quizresults.txt','w')\n",
    "    marksList = []\n",
    "    carrier = FullName + ' = ' + Grade + '\\n'\n",
    "    marksList.append(carrier)\n",
    "    outfile.writelines(marksList)\n",
    "    outfile.writelines('\\n')\n",
    "    outfile.close()\n",
    "\n",
    "import csv\n",
    "fullName = input('Please Enter Your Name, Then answer with only T or F.')\n",
    "A = getQuestionsFromFile()\n",
    "B = getUserAnswers(A)\n",
    "C = resultCalculation(B)\n",
    "print('Your quiz score is: ',C,'/ 20')\n",
    "with open('RESULTS.csv', 'w', newline='') as file:\n",
    "    writer = csv.writer(file)\n",
    "    writer.writerow([fullName, C])"
   ]
  }
 ],
 "metadata": {
  "kernelspec": {
   "display_name": "Python 3",
   "language": "python",
   "name": "python3"
  },
  "language_info": {
   "codemirror_mode": {
    "name": "ipython",
    "version": 3
   },
   "file_extension": ".py",
   "mimetype": "text/x-python",
   "name": "python",
   "nbconvert_exporter": "python",
   "pygments_lexer": "ipython3",
   "version": "3.9.0"
  }
 },
 "nbformat": 4,
 "nbformat_minor": 2
}
