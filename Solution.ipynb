{
 "cells": [
  {
   "cell_type": "code",
   "execution_count": null,
   "metadata": {},
   "outputs": [],
   "source": [
    "L1 = ['HTTP','HTTPS','FTP','DNS']\n",
    "L2 = [80,443,21,53]\n",
    "d={}\n",
    "for i in range(len(L1)):\n",
    "    d.update({L1[i]:L2[i]})\n",
    "print(d)"
   ]
  },
  {
   "cell_type": "code",
   "execution_count": null,
   "metadata": {},
   "outputs": [],
   "source": [
    "num=eval(input(\"Enter an integer: \"))\n",
    "factorial=1\n",
    "if num == 0:\n",
    "    print('The factorial of ',num,' is: 0')\n",
    "elif num == 1:\n",
    "    print('The factorial of ',num,' is: 1')\n",
    "else :\n",
    "    for i in range(1,(num+1)):\n",
    "        factorial *= i\n",
    "    print('The factorial of ',num,' is: ',factorial)"
   ]
  },
  {
   "cell_type": "code",
   "execution_count": null,
   "metadata": {},
   "outputs": [],
   "source": [
    "L=['Network', 'Bio' ,'Programming' ,'Physics' ,'Music']\n",
    "list2=[]\n",
    "for i in range(len(L)):\n",
    "   if L[i].startswith('B'):\n",
    "      list2.append(L[i])\n",
    "      print(\"The items from list L that start with the letter 'B' are:\",list2)"
   ]
  },
  {
   "cell_type": "code",
   "execution_count": null,
   "metadata": {},
   "outputs": [],
   "source": [
    "d={x:x+1 for x in range(11)}\n",
    "print(d)"
   ]
  },
  {
   "cell_type": "code",
   "execution_count": null,
   "metadata": {},
   "outputs": [],
   "source": [
    "#defined function that calculates the decimal value of the enetered binary number.\n",
    "def calculateDecimal(v1):\n",
    "    sum = 0\n",
    "    for i in range(len(v1)):\n",
    "        sum += int(v1[i]) * (2**(len(v1)-1-i))\n",
    "    print('The deciaml value of (',v1,') is',sum)\n",
    "#my main code that allows the user to input and ensures the input is legit before passing it to the defined function.\n",
    "binaryInput = input(\"Enter a binary number: \")\n",
    "check = True\n",
    "for i in range(len(binaryInput)):\n",
    "    if binaryInput[i] == '1' or binaryInput[i] == '0':\n",
    "        continue\n",
    "    else :\n",
    "        check = False\n",
    "if check == True :\n",
    "    calculateDecimal(binaryInput)\n",
    "else :\n",
    "    print('The number you entered (',binaryInput,') is not acceptable, Please rerun with a binary number consisted only of ones and zeroes.')"
   ]
  }
 ],
 "metadata": {
  "kernelspec": {
   "display_name": "Python 3",
   "language": "python",
   "name": "python3"
  },
  "language_info": {
   "name": "python",
   "version": "3.9.0"
  }
 },
 "nbformat": 4,
 "nbformat_minor": 2
}
