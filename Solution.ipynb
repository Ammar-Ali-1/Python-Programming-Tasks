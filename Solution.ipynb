{
 "cells": [
  {
   "cell_type": "code",
   "execution_count": 4,
   "metadata": {},
   "outputs": [
    {
     "name": "stdout",
     "output_type": "stream",
     "text": [
      "{'HTTP': 80, 'HTTPS': 443, 'FTP': 21, 'DNS': 53}\n"
     ]
    }
   ],
   "source": [
    "L1 = ['HTTP','HTTPS','FTP','DNS']\n",
    "L2 = [80,443,21,53]\n",
    "d = {}\n",
    "for i in range(len(L1)):\n",
    "    d.update({L1[i]:L2[i]})\n",
    "print(d)"
   ]
  },
  {
   "cell_type": "code",
   "execution_count": 11,
   "metadata": {},
   "outputs": [
    {
     "name": "stdout",
     "output_type": "stream",
     "text": [
      "The factorial of  10  is:  3628800\n"
     ]
    }
   ],
   "source": [
    "num = eval(input(\"Enter an integer: \"))\n",
    "factorial = 1\n",
    "if num == 0:\n",
    "    print('The factorial of ',num,' is: 0')\n",
    "elif num == 1:\n",
    "    print('The factorial of ',num,' is: 1')\n",
    "else :\n",
    "    for i in range(1,(num+1)):\n",
    "        factorial *= i\n",
    "    print('The factorial of ',num,' is: ',factorial)"
   ]
  },
  {
   "cell_type": "code",
   "execution_count": 12,
   "metadata": {},
   "outputs": [
    {
     "name": "stdout",
     "output_type": "stream",
     "text": [
      "The items from list L that start with the letter 'B' are: ['Bio']\n"
     ]
    }
   ],
   "source": [
    "L = ['Network', 'Bio' ,'Programming' ,'Physics' ,'Music']\n",
    "list2 = []\n",
    "for i in range(len(L)):\n",
    "   if L[i].startswith('B'):\n",
    "      list2.append(L[i])\n",
    "      print(\"The items from list L that start with the letter 'B' are:\",list2)"
   ]
  },
  {
   "cell_type": "code",
   "execution_count": 13,
   "metadata": {},
   "outputs": [
    {
     "name": "stdout",
     "output_type": "stream",
     "text": [
      "{0: 1, 1: 2, 2: 3, 3: 4, 4: 5, 5: 6, 6: 7, 7: 8, 8: 9, 9: 10, 10: 11}\n"
     ]
    }
   ],
   "source": [
    "d = {x:x+1 for x in range(11)}\n",
    "print(d)"
   ]
  },
  {
   "cell_type": "code",
   "execution_count": 1,
   "metadata": {},
   "outputs": [
    {
     "name": "stdout",
     "output_type": "stream",
     "text": [
      "The deciaml value of ( 111111 ) is 63\n"
     ]
    }
   ],
   "source": [
    "#defined function that calculates the decimal value of the enetered binary number.\n",
    "def calculateDecimal(v1):\n",
    "    sum = 0\n",
    "    for i in range(len(v1)):\n",
    "        sum += int(v1[i]) * (2**(len(v1)-1-i))\n",
    "    print('The deciaml value of (',v1,') is',sum)\n",
    "#my main code that allows the user to input and ensures the input is legit before passing it to the defined function.\n",
    "binaryInput = input(\"Enter a binary number: \")\n",
    "check = True\n",
    "for i in range(len(binaryInput)):\n",
    "    if binaryInput[i] == '1' or binaryInput[i] == '0':\n",
    "        continue\n",
    "    else :\n",
    "        check = False\n",
    "if check == True :\n",
    "    calculateDecimal(binaryInput)\n",
    "else :\n",
    "    print('The number you entered (',binaryInput,') is not acceptable, Please rerun with a binary number consisted only of ones and zeroes.')"
   ]
  },
  {
   "cell_type": "code",
   "execution_count": 2,
   "metadata": {},
   "outputs": [
    {
     "name": "stdout",
     "output_type": "stream",
     "text": [
      "Your quiz score is:  13 / 20\n"
     ]
    }
   ],
   "source": [
    "# The following function appends the questions from the file to a list:\n",
    "def getQuestionsFromFile():\n",
    "    infile = open('D:\\\\quiz.txt','r')\n",
    "    line = infile.readline()\n",
    "    theQuestions = []\n",
    "    while line != \"\":\n",
    "        x=line[:22]\n",
    "        theQuestions.append(x)\n",
    "        line = infile.readline()\n",
    "        line = infile.readline()\n",
    "    infile.close()\n",
    "    return(theQuestions)\n",
    "\n",
    "\n",
    "# The following function lets the user to type in his answers:\n",
    "def getUserAnswers(v1):\n",
    "    userInput = []\n",
    "    for i in range(len(v1)):\n",
    "        l=A[i]\n",
    "        s = input(l)\n",
    "        userInput.append(s)\n",
    "    return(userInput)\n",
    "\n",
    "# The following function gets the correct answers written in the file and compares them to the user's answers:\n",
    "def resultCalculation(list1):\n",
    "    infile = open('D:\\\\quiz.txt','r')\n",
    "    line = infile.readline()\n",
    "    line = infile.readline()\n",
    "    correctAnswers = []\n",
    "    while line != \"\":\n",
    "        x = line[:1]\n",
    "        correctAnswers.append(x)\n",
    "        line = infile.readline()\n",
    "        line = infile.readline()\n",
    "    score = 0\n",
    "    for i in range(20):\n",
    "        if list1[i] == correctAnswers[i]:\n",
    "            score += 1\n",
    "    infile.close()\n",
    "    return(score)\n",
    "\n",
    "def storeUserMarks(FullName,Grade) :\n",
    "    outfile = open('D:\\\\quizresults.txt','w')\n",
    "    marksList = []\n",
    "    carrier = FullName + ' = ' + Grade + '\\n'\n",
    "    marksList.append(carrier)\n",
    "    outfile.writelines(marksList)\n",
    "    outfile.writelines('\\n')\n",
    "    outfile.close()\n",
    "\n",
    "fullName = input('Please Enter Your Name, Then answer with only T or F.')\n",
    "A = getQuestionsFromFile()\n",
    "B = getUserAnswers(A)\n",
    "C = resultCalculation(B)\n",
    "print('Your quiz score is: ',C,'/ 20')\n",
    "with open('RESULTS.csv', 'w', newline='') as file:\n",
    "    writer = csv.writer(file)\n",
    "    writer.writerow([fullName, C])"
   ]
  },
  {
   "cell_type": "code",
   "execution_count": null,
   "metadata": {},
   "outputs": [],
   "source": [
    "class BankAccount:\n",
    "    def __init__(self, account_number = '', account_holder = '', balance=float(0.0)):\n",
    "        self.account_number = account_number\n",
    "        self.account_holder = account_holder\n",
    "        self.balance = balance\n",
    "    \n",
    "    def set_account_number(self, account_number):\n",
    "        self.account_number = account_number\n",
    "    \n",
    "    def set_account_holder(self, account_holder):\n",
    "        self.account_holder = account_holder\n",
    "    \n",
    "    def set_balance(self, balance):\n",
    "        self.balance = balance\n",
    "    \n",
    "    def deposit(self, x):\n",
    "        self.balance += x\n",
    "    \n",
    "    def withdraw(self, y):\n",
    "        self.balance -= y\n",
    "    \n",
    "    def get_balance(self):\n",
    "        return (self.balance)\n",
    "    \n",
    "    def __str__(self):\n",
    "        return(\"Num : \" + self.account_number + \"\\nHolder : \" + self.account_holder + \"\\nBalance : \" + str(self.balance))\n",
    "    \n",
    "class SavingsAccount(BankAccount):\n",
    "    def __init__(self, account_number='', account_holder='', balance=float(0.0), interest_rate=float(0.0) ):\n",
    "        super().__init__(account_number, account_holder, balance)\n",
    "        self.interest_rate = interest_rate\n",
    "    \n",
    "    def apply_interest(self):\n",
    "        self.balance += self.balance * self.interest_rate/100\n",
    "    \n",
    "    def Override_print(self):\n",
    "        return(\"Your balance is now : \" + str(self.balance) + \" With an interest rate of : \" + str(self.interest_rate))\n",
    "\n",
    "a = BankAccount('88888888', 'Ammar', 0)\n",
    "a.deposit(1000)\n",
    "print('Your balance is now:', a.get_balance())\n",
    "a.withdraw(500)\n",
    "print('Your balance is now:', a.get_balance())\n",
    "b = SavingsAccount(a.account_number, a.account_holder, a.get_balance(), 2.5)\n",
    "b.apply_interest()\n",
    "b.Override_print()"
   ]
  }
 ],
 "metadata": {
  "kernelspec": {
   "display_name": "Python 3",
   "language": "python",
   "name": "python3"
  },
  "language_info": {
   "codemirror_mode": {
    "name": "ipython",
    "version": 3
   },
   "file_extension": ".py",
   "mimetype": "text/x-python",
   "name": "python",
   "nbconvert_exporter": "python",
   "pygments_lexer": "ipython3",
   "version": "3.9.0"
  }
 },
 "nbformat": 4,
 "nbformat_minor": 2
}
